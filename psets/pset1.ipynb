{
  "cells": [
    {
      "cell_type": "markdown",
      "metadata": {
        "id": "view-in-github",
        "colab_type": "text"
      },
      "source": [
        "<a href=\"https://colab.research.google.com/github/aminehd/Linalg18065/blob/main/psets/pset1.ipynb\" target=\"_parent\"><img src=\"https://colab.research.google.com/assets/colab-badge.svg\" alt=\"Open In Colab\"/></a>"
      ]
    },
    {
      "cell_type": "markdown",
      "id": "08cd437b",
      "metadata": {
        "id": "08cd437b"
      },
      "source": [
        "# 18.065 Pset 1\n",
        "\n",
        "Due Friday 2/17 at 1pm.   Submit in PDF format: a decent-quality scan/image of any handwritten solutions (e.g. get a scanner app on your phone or use a tablet), and a PDF printout of your Jupyter notebook showing your code and (clearly labeled) results."
      ]
    },
    {
      "cell_type": "markdown",
      "id": "0d53b289",
      "metadata": {
        "id": "0d53b289"
      },
      "source": [
        "## Problem 1 (4+4+4+4+4 points)\n",
        "\n",
        "Recall from class that multiplying an $m \\times p$ by a $p \\times n$ matrix costs $mnp$ scalar multiplications (and a similar number of additions) by the standard (practical) algorithms.\n",
        "\n",
        "Matrix multiplication is **not commutative** ($AB \\ne BA$ in general), but it **is associative**: $(AB)C=A(BC)$.   It turns out that where you put the parentheses (i.e. in *what order* you do the multiplications) can make a *huge* difference in computational cost.\n",
        "\n",
        "**(a)** If $x \\in \\mathbb{R}^n$ and $A,B$ are $n \\times n$ matrices, compare the scalar multiplication counts of $(AB)x$ vs. $A(Bx)$, i.e. if we do the multiplications in the order indicated by the parentheses.\n",
        "\n",
        "**(b)** If $x, b\\in \\mathbb{R}^n$, **how many scalar multiplications** does the computation $$p = (I - (xx^T)/(x^T x)) b$$ take if we *do it in the order indicated by the parentheses*?  (Note that dividing by a scalar $\\alpha$ is equivalent to multiplying by $\\alpha^{-1}$ at the negligible cost of one scalar division.)\n",
        "\n",
        "**(c)** Explain how to compute the *same* $p$ as in part (b) using as *few multiplications as possible*.  Outline the sequence of computational steps, and give the count of multiplications.\n",
        "\n",
        "**(d)** $p^T x = $ what?\n",
        "\n",
        "**(e)** Implement your algorithm from (c) in Julia, filling in the code below, and time it for $n=1000$ using the `@btime` macro from the [BenchmarkTools package](https://github.com/JuliaCI/BenchmarkTools.jl), along with the algorithm from part (b), following the outline below.  How does the ratio of the two times compare to your ratio of multiplication counts?"
      ]
    },
    {
      "cell_type": "code",
      "source": [
        "using Pkg\n",
        "Pkg.add(\"BenchmarkTools\")"
      ],
      "metadata": {
        "colab": {
          "base_uri": "https://localhost:8080/"
        },
        "id": "yPLzLSMY9htC",
        "outputId": "73503dc1-e2e8-4d4b-95ee-539d9bb0d4dc"
      },
      "id": "yPLzLSMY9htC",
      "execution_count": null,
      "outputs": [
        {
          "output_type": "stream",
          "name": "stderr",
          "text": [
            "\u001b[32m\u001b[1m    Updating\u001b[22m\u001b[39m registry at `~/.julia/registries/General.toml`\n",
            "\u001b[32m\u001b[1m   Resolving\u001b[22m\u001b[39m package versions...\n",
            "\u001b[32m\u001b[1m   Installed\u001b[22m\u001b[39m BenchmarkTools ─ v1.6.0\n",
            "\u001b[32m\u001b[1m    Updating\u001b[22m\u001b[39m `~/.julia/environments/v1.10/Project.toml`\n",
            "  \u001b[90m[6e4b80f9] \u001b[39m\u001b[92m+ BenchmarkTools v1.6.0\u001b[39m\n",
            "\u001b[32m\u001b[1m    Updating\u001b[22m\u001b[39m `~/.julia/environments/v1.10/Manifest.toml`\n",
            "  \u001b[90m[6e4b80f9] \u001b[39m\u001b[92m+ BenchmarkTools v1.6.0\u001b[39m\n",
            "  \u001b[90m[9abbd945] \u001b[39m\u001b[92m+ Profile\u001b[39m\n",
            "\u001b[32m\u001b[1mPrecompiling\u001b[22m\u001b[39m packages...\n",
            "   2985.8 ms\u001b[32m  ✓ \u001b[39mBenchmarkTools\n",
            "  1 dependency successfully precompiled in 14 seconds. 460 already precompiled.\n"
          ]
        }
      ]
    },
    {
      "cell_type": "code",
      "execution_count": null,
      "id": "b149871c",
      "metadata": {
        "colab": {
          "base_uri": "https://localhost:8080/"
        },
        "id": "b149871c",
        "outputId": "e9d440bb-73bd-46f1-8874-5f075118a027"
      },
      "outputs": [
        {
          "output_type": "stream",
          "name": "stdout",
          "text": [
            "Hooray, part (c) and part (b) agree!\n",
            "\n",
            "part (b): \n",
            "  4.439 ms (7 allocations: 22.90 MiB)\n",
            "\n",
            "part (c): \n",
            "  4.020 μs (3 allocations: 23.81 KiB)\n"
          ]
        }
      ],
      "source": [
        "using LinearAlgebra, BenchmarkTools\n",
        "# Pkg.add(\"BenchmarkTools\")\n",
        "\n",
        "# algorithm from part (b)\n",
        "function part_b(x, b)\n",
        "    return (I - (x*x')*(x'*x)^-1) * b\n",
        "end\n",
        "\n",
        "# algorithm from part (c)\n",
        "function part_c(x, b)\n",
        "    return b - x*(x'*b)*(x'*x)^-1\n",
        "    # CHANGE THIS:\n",
        "    return x + b\n",
        "end\n",
        "\n",
        "# test and benchmark on random vectors:\n",
        "n = 1000\n",
        "x, b = rand(n), rand(n)\n",
        "\n",
        "# test it first — should give same answer up to roundoff error\n",
        "if part_c(x, b) ≈ part_b(x, b)\n",
        "    println(\"Hooray, part (c) and part (b) agree!\")\n",
        "else\n",
        "    error(\"You made a mistake: part (c) and part (b) do not agree!\")\n",
        "end\n",
        "\n",
        "# benchmark it:\n",
        "\n",
        "println(\"\\npart (b): \")\n",
        "@btime part_b($x, $b);\n",
        "\n",
        "println(\"\\npart (c): \")\n",
        "@btime part_c($x, $b);"
      ]
    },
    {
      "cell_type": "code",
      "source": [
        "# for interest, let's plot (time for b) / (n*(time for c)) versus n,\n",
        "# and see how different it is from a constant:\n",
        "\n",
        "ns = round.(Int, 10 .^ range(1, 4, length=20)) # log-spaced points\n",
        "\n",
        "t_bc = map(ns) do n\n",
        "    @show n\n",
        "    x, b = rand(n), rand(n)\n",
        "    @belapsed(part_b(\n",
        "b)), @belapsed(part_c(\n",
        "b))\n",
        "end\n",
        "\n",
        "t_ratio = first.(t_bc) ./ (ns .* last.(t_bc))"
      ],
      "metadata": {
        "id": "AfifFm2YOiUV",
        "outputId": "22259af6-170e-40ea-cc11-7ff557e7f731",
        "colab": {
          "base_uri": "https://localhost:8080/",
          "height": 870
        }
      },
      "id": "AfifFm2YOiUV",
      "execution_count": null,
      "outputs": [
        {
          "output_type": "stream",
          "name": "stdout",
          "text": [
            "n = 10\n"
          ]
        },
        {
          "output_type": "error",
          "ename": "LoadError",
          "evalue": "MethodError: no method matching part_b(::Vector{Float64})\n\n\u001b[0mClosest candidates are:\n\u001b[0m  part_b(::Any, \u001b[91m::Any\u001b[39m)\n\u001b[0m\u001b[90m   @\u001b[39m \u001b[35mMain\u001b[39m \u001b[90m\u001b[4mIn[3]:5\u001b[24m\u001b[39m\n",
          "traceback": [
            "MethodError: no method matching part_b(::Vector{Float64})\n\n\u001b[0mClosest candidates are:\n\u001b[0m  part_b(::Any, \u001b[91m::Any\u001b[39m)\n\u001b[0m\u001b[90m   @\u001b[39m \u001b[35mMain\u001b[39m \u001b[90m\u001b[4mIn[3]:5\u001b[24m\u001b[39m\n",
            "",
            "Stacktrace:",
            "  [1] var\"##core#249\"()",
            "    @ Main ~/.julia/packages/BenchmarkTools/1i1mY/src/execution.jl:598",
            "  [2] var\"##sample#250\"(::Tuple{}, __params::BenchmarkTools.Parameters)",
            "    @ Main ~/.julia/packages/BenchmarkTools/1i1mY/src/execution.jl:607",
            "  [3] _lineartrial(b::BenchmarkTools.Benchmark, p::BenchmarkTools.Parameters; maxevals::Int64, kwargs::@Kwargs{})",
            "    @ BenchmarkTools ~/.julia/packages/BenchmarkTools/1i1mY/src/execution.jl:186",
            "  [4] _lineartrial(b::BenchmarkTools.Benchmark, p::BenchmarkTools.Parameters)",
            "    @ BenchmarkTools ~/.julia/packages/BenchmarkTools/1i1mY/src/execution.jl:181",
            "  [5] #invokelatest#2",
            "    @ ./essentials.jl:892 [inlined]",
            "  [6] invokelatest",
            "    @ ./essentials.jl:889 [inlined]",
            "  [7] #lineartrial#46",
            "    @ ~/.julia/packages/BenchmarkTools/1i1mY/src/execution.jl:51 [inlined]",
            "  [8] lineartrial",
            "    @ ~/.julia/packages/BenchmarkTools/1i1mY/src/execution.jl:50 [inlined]",
            "  [9] tune!(b::BenchmarkTools.Benchmark, p::BenchmarkTools.Parameters; progressid::Nothing, nleaves::Float64, ndone::Float64, verbose::Bool, pad::String, kwargs::@Kwargs{})",
            "    @ BenchmarkTools ~/.julia/packages/BenchmarkTools/1i1mY/src/execution.jl:299",
            " [10] tune! (repeats 2 times)",
            "    @ ~/.julia/packages/BenchmarkTools/1i1mY/src/execution.jl:288 [inlined]",
            " [11] macro expansion",
            "    @ ~/.julia/packages/BenchmarkTools/1i1mY/src/execution.jl:461 [inlined]",
            " [12] (::var\"#1#2\")(n::Int64)",
            "    @ Main ./In[4]:9",
            " [13] iterate",
            "    @ ./generator.jl:47 [inlined]",
            " [14] _collect(c::Vector{Int64}, itr::Base.Generator{Vector{Int64}, var\"#1#2\"}, ::Base.EltypeUnknown, isz::Base.HasShape{1})",
            "    @ Base ./array.jl:854",
            " [15] collect_similar(cont::Vector{Int64}, itr::Base.Generator{Vector{Int64}, var\"#1#2\"})",
            "    @ Base ./array.jl:763",
            " [16] map(f::Function, A::Vector{Int64})",
            "    @ Base ./abstractarray.jl:3286",
            " [17] top-level scope",
            "    @ In[4]:6"
          ]
        }
      ]
    },
    {
      "cell_type": "markdown",
      "id": "bfa41bf1",
      "metadata": {
        "id": "bfa41bf1"
      },
      "source": [
        "## Problem 2 (8+4 points)\n",
        "\n",
        "**(a)** Describe the four fundamental subspaces of the **rank-1 matrix** $A = uv^T$ where $u \\in \\mathbb{R}^m$ and $n \\in \\mathbb{R}^n$.\n",
        "\n",
        "**(b)** For any column vectors $u,v \\in \\mathbb{R}^3$, the matrix $uv^T$ is rank 1, except when \\_\\_\\_\\_\\_\\_\\_\\_, in which case $uv^T$ has rank \\_\\_\\_\\_."
      ]
    },
    {
      "cell_type": "markdown",
      "id": "82b2c169",
      "metadata": {
        "id": "82b2c169"
      },
      "source": [
        "## Problem 3 (5+4+4+4 points)\n",
        "\n",
        "**(a)** Pick the choices that makes this statement correct for arbitrary matrices A and B:  $C(AB)$ (*contains / is contained in*) the column space of (*A / B*).  Briefly justify your answer.\n",
        "\n",
        "**(b)** Suppose that $A$ is a $1000\\times 1000$ matrix of rank $< 10$.  Suppose we multiply it by 10 random vectors $x_1, x_2, \\ldots, x_{10}$, e.g. generated by `randn(1000)`.  How could we use the results to get a $10\\times 10$ matrix $C$ whose rank (almost certainly) matches $A$'s?\n",
        "\n",
        "**(c)** Suppose we instead make $1000\\times 10$ matrix $X$ whose columns are $x_1, x_2, \\ldots, x_{10}$.  Give a formula for the *same* matrix $C$ in terms of matrix products involving $A$ and $X$.\n",
        "\n",
        "**(d)** Fill in the code for $C$ below, and compare the biggest 10 singular values of $A$ (chosen to be rank ≈ 4 in this case) to the corresponding 10 singular values of $C$.  Does it match what you expect?"
      ]
    },
    {
      "cell_type": "code",
      "execution_count": null,
      "id": "e7b32901",
      "metadata": {
        "scrolled": false,
        "colab": {
          "base_uri": "https://localhost:8080/",
          "height": 178
        },
        "id": "e7b32901",
        "outputId": "1c014a1a-5a93-444b-d9a7-953c1eb461c3"
      },
      "outputs": [
        {
          "output_type": "stream",
          "name": "stdout",
          "text": [
            "(svdvals(A))[1:10] = [1045.6763150941833, 1018.0666769667715, 993.6562809670489, 947.4551663909265, 1.058543599091141e-12, 1.0070192383522164e-12, 8.628909825928692e-13, 8.021280779848323e-13, 7.502757836749603e-13, 7.125407501558961e-13]\n"
          ]
        },
        {
          "output_type": "error",
          "ename": "LoadError",
          "evalue": "ParseError:\n\u001b[90m# Error @ \u001b[0;0m\u001b]8;;file:///content/In[3]#9:8\u001b\\\u001b[90mIn[3]:9:8\u001b[0;0m\u001b]8;;\u001b\\\n# (A X)\nC = (A \u001b[48;2;120;70;70m@ X\u001b[0;0m).T @ (A @ X)\n\u001b[90m#      └─┘ ── \u001b[0;0m\u001b[91mExpected `)`\u001b[0;0m",
          "traceback": [
            "ParseError:\n\u001b[90m# Error @ \u001b[0;0m\u001b]8;;file:///content/In[3]#9:8\u001b\\\u001b[90mIn[3]:9:8\u001b[0;0m\u001b]8;;\u001b\\\n# (A X)\nC = (A \u001b[48;2;120;70;70m@ X\u001b[0;0m).T @ (A @ X)\n\u001b[90m#      └─┘ ── \u001b[0;0m\u001b[91mExpected `)`\u001b[0;0m",
            "",
            "Stacktrace:",
            " [1] top-level scope",
            "   @ In[3]:9"
          ]
        }
      ],
      "source": [
        "using LinearAlgebra\n",
        "\n",
        "# random 1000x1000 matrix of rank 4\n",
        "A = randn(1000, 4) * randn(4, 1000)\n",
        "@show svdvals(A)[1:10]\n",
        "\n",
        "X = randn(1000, 10)\n",
        "# (A X)\n",
        "C = (A @ X).T @ (A @ X)\n",
        "@show svdvals(C)"
      ]
    },
    {
      "cell_type": "markdown",
      "id": "ee67e16b",
      "metadata": {
        "id": "ee67e16b"
      },
      "source": [
        "## Problem 4 (4+5+5 points)\n",
        "\n",
        "The famous Hadamard matrices are filled with ±1 and have orthogonal columns (orthonormal if we divide $H_n$ by $1/\\sqrt{n}$).  The first few are:\n",
        "\\begin{align}\n",
        " H_1 &= \\begin{pmatrix} 1 \\end{pmatrix}, \\\\\n",
        "  H_2 &= \\begin{pmatrix}\n",
        "    1 &  1 \\\\\n",
        "    1 & -1\n",
        "  \\end{pmatrix}, \\\\\n",
        "  H_4 &= \\begin{pmatrix} H_2 & H_2 \\\\ H_2 & -H_2 \\end{pmatrix} = \\begin{pmatrix}\n",
        "    1 &  1 &  1 &  1\\\\\n",
        "    1 & -1 &  1 & -1\\\\\n",
        "    1 &  1 & -1 & -1\\\\\n",
        "    1 & -1 & -1 &  1\n",
        "  \\end{pmatrix} \\, .\n",
        "\\end{align}\n",
        "Notice that (for power-of-2 sizes), they are built up \"recursively\" out of smaller Hadamard matrices.  Multiplying a vector by a Hadamard matrix requires no multiplications at all, only additions/subtractions.\n",
        "\n",
        "**(a)** If you multiply $H_4 x$ for some $x \\in \\mathbb{R}^4$ by the normal \"rows-times-columns\" method (*without* exploiting any special patterns), exactly how many scalar additions/subtractions are required?\n",
        "\n",
        "**(b)** Let's break $x$ into two blocks: $x = \\begin{pmatrix} x_1 \\\\ x_2 \\end{pmatrix}$ for $x_1, x_2 \\in \\mathbb{R}^2$.  Write out $H_4 x$ in terms of a sequence of $2\\times 2$ block multiplications with $\\pm H_2$.  You'll notice that some of these $2\\times 2$ multiplications are repeated.  If we re-use these repeated multiplications rather than doing them twice, we can save a bunch of arithmetic — what is the new count of scalar additions/subtractions if you do this?\n",
        "\n",
        "**(c)** Similarly, the $8\\times 8$ Hadamard matrix $H_8 = \\begin{pmatrix} H_4 & H_4 \\\\ H_4 & -H_4 \\end{pmatrix}$ is made out of $H_4$ matrices.   To multiply it by a vector $y \\in \\mathbb{R}^8$, the naive rows-times columns method would require \\_\\_\\_\\_ scalar additions/subtractions, whereas if you broke them up first into blocks of 4, used your solution from (b), and then re-used any repeated $H_4$ products, it would only require \\_\\_\\_\\_ scalar additions/subtractions."
      ]
    },
    {
      "cell_type": "markdown",
      "id": "c2a2b8eb",
      "metadata": {
        "id": "c2a2b8eb"
      },
      "source": [
        "## Problem 5 (5+5 points)\n",
        "\n",
        "The famous \"discrete Fourier transform\" matrix $F$ has columns that are actually eigenvectors of the (unitary) permutation matrix:\n",
        "$$\n",
        "P = \\begin{pmatrix}  & 1 & & \\\\ & &1 &  \\\\ & &  &1 \\\\ 1 &  & & \\end{pmatrix}\n",
        "$$\n",
        "for the $4\\times 4$ case, and similarly for larger matrices.\n",
        "\n",
        "**(a)** One way of saying way Fourier transforms are practically important is that they *diagonalize* (are eigenvectors of) matrices that *commute* with $P$.  If $A$ is a $4\\times 4$ matrix whose first row is $(a\\, b\\, c\\, d)$\n",
        "$$\n",
        "A = \\begin{pmatrix} a & b & c & d \\\\ ? & ? &? & ? \\\\ ? &? & ? &? \\\\ ? & ? & ? &? \\end{pmatrix}\n",
        "$$\n",
        "that commutes with $P$ (i.e. $AP=PA$), what must be true of the other (\"?\") entries of $A$?\n",
        "\n",
        "**(b)** Fill in the matrix `A` in Julia below and fill in and run the code to check that it commutes with $P$ and is diagonalized by $F$:"
      ]
    },
    {
      "cell_type": "code",
      "execution_count": 3,
      "id": "e7222137",
      "metadata": {
        "id": "e7222137",
        "outputId": "5672b6cc-9ac3-4314-bb30-0aa725c6dfb9",
        "colab": {
          "base_uri": "https://localhost:8080/"
        }
      },
      "outputs": [
        {
          "output_type": "execute_result",
          "data": {
            "text/plain": [
              "4×4 Matrix{Int64}:\n",
              " 1  7  3  2\n",
              " 7  3  2  1\n",
              " 3  2  1  7\n",
              " 2  1  7  3"
            ]
          },
          "metadata": {},
          "execution_count": 3
        }
      ],
      "source": [
        "a, b, c, d = 1, 7, 3, 2    # 4 arbitrarily chosen values\n",
        "\n",
        "P = [0 1 0 0\n",
        "     0 0 1 0\n",
        "     0 0 0 1\n",
        "     1 0 0 0]\n",
        "\n",
        "F = im .^ ((0:3) .* (0:3)') # the 4×4 Fourier matrix\n",
        "\n",
        "# fill in:\n",
        "A = [a b c d\n",
        "     b c d a\n",
        "     c d a b\n",
        "     d a b c]"
      ]
    },
    {
      "cell_type": "code",
      "execution_count": 4,
      "id": "25dc7673",
      "metadata": {
        "id": "25dc7673",
        "outputId": "e58b34f6-4fa8-4216-b8ec-10b255b09b3b",
        "colab": {
          "base_uri": "https://localhost:8080/"
        }
      },
      "outputs": [
        {
          "output_type": "execute_result",
          "data": {
            "text/plain": [
              "false"
            ]
          },
          "metadata": {},
          "execution_count": 4
        }
      ],
      "source": [
        "# check:\n",
        "P * A == A * P"
      ]
    },
    {
      "cell_type": "code",
      "execution_count": null,
      "id": "0ae85697",
      "metadata": {
        "id": "0ae85697"
      },
      "outputs": [],
      "source": [
        "# check that F diagonalizes A.  (How?)\n",
        "\n",
        "#"
      ]
    }
  ],
  "metadata": {
    "kernelspec": {
      "display_name": "Julia",
      "name": "julia"
    },
    "language_info": {
      "name": "julia"
    },
    "colab": {
      "provenance": [],
      "include_colab_link": true
    }
  },
  "nbformat": 4,
  "nbformat_minor": 5
}