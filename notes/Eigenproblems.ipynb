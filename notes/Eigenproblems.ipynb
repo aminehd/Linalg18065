{
 "cells": [
  {
   "cell_type": "markdown",
   "id": "4f446c8e",
   "metadata": {},
   "source": [
    "# Eigenvalue problems\n",
    "\n",
    "For a square matrix $A$, an **eigenvector** $x$ is a solution to:\n",
    "\n",
    "$$\n",
    "Ax = \\lambda x \\qquad \\Longleftrightarrow \\qquad  (A - \\lambda I)x = 0\n",
    "$$\n",
    "for some $x\\ne 0$ and some scalar $\\lambda$, the **eigenvalue**.\n",
    "\n",
    "The important thing about eigenvectors is that they make a complicated matrix $A$ **act like a scalar** $\\lambda$, which makes it easier to understand.\n",
    "\n",
    "For a typical $m \\times m$ matrix $A$, you will almost always have $m$ eigenvalues $\\lambda_1, \\ldots, \\lambda_m$ and corresponding linearly independent eigenvectors $x_1, \\ldots, x_k$.   That allows you to form a **basis of eigenvectors**: you can write *any* vector as a linear combination of eigenvectors, and then anything you want to do with $A$ becomes *easy (scalar) on each term*."
   ]
  },
  {
   "cell_type": "markdown",
   "id": "8112d161",
   "metadata": {},
   "source": [
    "## Computing eigenvalues and eigenvectors\n",
    "\n",
    "From the second form of the eigen-equation above, we immediately see that for any eigenvalue $\\lambda$, the matrix $A - \\lambda I$ must be **singular**, which implies that its **determinant is zero**:\n",
    "\n",
    "$$\n",
    "\\det(A - \\lambda I) = 0\n",
    "$$\n",
    "\n",
    "If you think a little bit about determinant formulas, which are a sum of terms that multiply one entry from each row and column of the matrix, you'll quickly see that $\\det(A - \\lambda I)$ is a **polynomial of degree m in λ**, called the **characteristic polynomial of A**.\n",
    "\n",
    "So, one way to find eigenvalues, which you probably already learned, is to compute this determinant to find the polynomial, and then **calculate the roots of the polyomial**.  Once you have an eigenvalue, finding an eigenvector is relatively easy: it comes from the nullspace of $A - \\lambda I$, and can be computed by Gaussian elimination.\n",
    "\n",
    "However, while this is an easy procedure for $2\\times 2$ matrices, it is not so obvious how to carry it out for large matrices, where you would have to find **roots of high-degree polynomials**.   Efficient and accurate solution of eigenproblems is a famously tricky problem in numerical linear algebra, and the modern algorithms are *not obvious*.\n",
    "\n",
    "Here, we will cheat and use the function `eigen` in Julia's `LinearAlgebra` standard library:"
   ]
  },
  {
   "cell_type": "code",
   "execution_count": 1,
   "id": "02daa5e0",
   "metadata": {},
   "outputs": [
    {
     "data": {
      "text/plain": [
       "Eigen{Float64, Float64, Matrix{Float64}, Vector{Float64}}\n",
       "values:\n",
       "2-element Vector{Float64}:\n",
       " -0.3722813232690143\n",
       "  5.372281323269014\n",
       "vectors:\n",
       "2×2 Matrix{Float64}:\n",
       " -0.824565  -0.415974\n",
       "  0.565767  -0.909377"
      ]
     },
     "execution_count": 1,
     "metadata": {},
     "output_type": "execute_result"
    }
   ],
   "source": [
    "using LinearAlgebra\n",
    "\n",
    "A = [1.0 2.0\n",
    "     3.0 4.0]\n",
    "λ, X = eigen(A)"
   ]
  },
  {
   "cell_type": "markdown",
   "id": "a16f128e",
   "metadata": {},
   "source": [
    "Here, our 2x2 matrix has two eigenvalues:"
   ]
  },
  {
   "cell_type": "code",
   "execution_count": 2,
   "id": "dd5fc376",
   "metadata": {},
   "outputs": [
    {
     "data": {
      "text/plain": [
       "2-element Vector{Float64}:\n",
       " -0.3722813232690143\n",
       "  5.372281323269014"
      ]
     },
     "execution_count": 2,
     "metadata": {},
     "output_type": "execute_result"
    }
   ],
   "source": [
    "λ"
   ]
  },
  {
   "cell_type": "markdown",
   "id": "490048cd",
   "metadata": {},
   "source": [
    "and corresponding eigenvalues given by the *columns* of the matrix $X$:"
   ]
  },
  {
   "cell_type": "code",
   "execution_count": 3,
   "id": "2808625b",
   "metadata": {},
   "outputs": [
    {
     "data": {
      "text/plain": [
       "2×2 Matrix{Float64}:\n",
       " -0.824565  -0.415974\n",
       "  0.565767  -0.909377"
      ]
     },
     "execution_count": 3,
     "metadata": {},
     "output_type": "execute_result"
    }
   ],
   "source": [
    "X"
   ]
  },
  {
   "cell_type": "markdown",
   "id": "5ff64dcd",
   "metadata": {},
   "source": [
    "Let's check that this works fore the first column, denoted `X[:,1]` in Julia, by computing $Ax - \\lambda x$:"
   ]
  },
  {
   "cell_type": "code",
   "execution_count": 4,
   "id": "d93ec2e4",
   "metadata": {},
   "outputs": [
    {
     "data": {
      "text/plain": [
       "2-element Vector{Float64}:\n",
       " 0.0\n",
       " 5.551115123125783e-17"
      ]
     },
     "execution_count": 4,
     "metadata": {},
     "output_type": "execute_result"
    }
   ],
   "source": [
    "A * X[:,1] - λ[1] * X[:,1]"
   ]
  },
  {
   "cell_type": "markdown",
   "id": "4459722c",
   "metadata": {},
   "source": [
    "Yup, it's zero up to roundoff errors!  (The computer only does arithmetic to 15–16 digits by default.)"
   ]
  },
  {
   "cell_type": "markdown",
   "id": "8e617b0e",
   "metadata": {},
   "source": [
    "These eigenvectors will form a basis for $\\mathbb{R}^2$, but they are not orthogonal:"
   ]
  },
  {
   "cell_type": "code",
   "execution_count": 5,
   "id": "515895b8",
   "metadata": {},
   "outputs": [
    {
     "data": {
      "text/plain": [
       "2×2 Matrix{Float64}:\n",
       "  1.0       -0.171499\n",
       " -0.171499   1.0"
      ]
     },
     "execution_count": 5,
     "metadata": {},
     "output_type": "execute_result"
    }
   ],
   "source": [
    "X' * X"
   ]
  },
  {
   "cell_type": "markdown",
   "id": "ae9efc5f",
   "metadata": {},
   "source": [
    "The off-diagonal elements are the dot products of the eigenvectors with each other, and are not even close to zero: they are **not orthogonal**."
   ]
  },
  {
   "cell_type": "markdown",
   "id": "e8911a41",
   "metadata": {},
   "source": [
    "## Using eigenvalues and eigenvectors: Matrix powers & exponentials\n",
    "\n",
    "The key point is the **matrix acts like a scalar λ** when acting on an eigenvector,\n",
    "for **any operation you might want to do with the matrix**.\n",
    "\n",
    "For example:\n",
    "\n",
    "* Matrix *inverses*: $A^{-1} x = \\lambda^{-1} x$\n",
    "* General matrix *powers*: $A^n x = \\lambda^n x$\n",
    "   - These show up in lots of problems, including linear *recurrence equations*.\n",
    "* Matrix *exponentials*: $e^{A}x = \\left(I + A + A^2/2 + A^3/6 + \\cdots + A^n/n! + \\cdots\\right) x = e^{\\lambda} x$\n",
    "  - These are important when solving *systems of differential equations* $\\frac{dx}{dt} = Ax$: for any initial condition $x(0)$, the solution is $x(t) = e^{At} x(0)$.\n",
    "  \n",
    "For *any* $x$, you expand in the basis of eigenvectors:\n",
    "$$\n",
    "x = c_1 x_1 + c_2 x_2 + \\cdots + c_m x_m = \\sum_k c_k x_k = X c\n",
    "$$\n",
    "for some coefficients $c = X^{-1} x$, and then act $A$ on *each term as a scalar*.  For example,\n",
    "with matrix powers:\n",
    "$$\n",
    "A^n x = \\sum_k c_k \\boxed{ \\lambda_k^m}  x_k\n",
    "$$\n",
    "multiplies *each term* by $\\lambda_k^m$.\n",
    "\n",
    "This means, for example, that multiplying a random vector by $A$ many times tends towards the largest eigenvector.  For example, with our 2x2 matrix above:"
   ]
  },
  {
   "cell_type": "code",
   "execution_count": 6,
   "id": "f291f3be",
   "metadata": {},
   "outputs": [
    {
     "data": {
      "text/plain": [
       "2-element Vector{Float64}:\n",
       " 1.1064255702282437\n",
       " 0.6604584519709495"
      ]
     },
     "execution_count": 6,
     "metadata": {},
     "output_type": "execute_result"
    }
   ],
   "source": [
    "x = randn(2) # a random 2-component vector"
   ]
  },
  {
   "cell_type": "code",
   "execution_count": 7,
   "id": "48a9a3e4",
   "metadata": {},
   "outputs": [
    {
     "data": {
      "text/plain": [
       "2-element Vector{Float64}:\n",
       " 5.1264936878916495e72\n",
       " 1.1207236302712575e73"
      ]
     },
     "execution_count": 7,
     "metadata": {},
     "output_type": "execute_result"
    }
   ],
   "source": [
    "y = A^100 * x # should be parallel to x₂"
   ]
  },
  {
   "cell_type": "markdown",
   "id": "08235ffe",
   "metadata": {},
   "source": [
    "This should be nearly parallel to $x_2$.  Recall that the eigenvalues were $\\lambda_1 \\approx -0.37$ and $\\lambda_2 \\approx 5.4$, so:\n",
    "$$\n",
    "x = c_1 x_1 + c_2 x_2 \\implies A^{100} x = (-0.37)^{100} c_1 x_1 + (5.4)^{100} c_2 x_2 \\approx (5.4)^{100} c_2 x_2 \n",
    "$$\n",
    "since the second term is exponentially larger than the first.\n",
    "\n",
    "Here, we can check that it is parallel to $x_2$ by looking at the ratio of the components:"
   ]
  },
  {
   "cell_type": "code",
   "execution_count": 8,
   "id": "250978f6",
   "metadata": {},
   "outputs": [
    {
     "data": {
      "text/plain": [
       "2.186140661634507"
      ]
     },
     "execution_count": 8,
     "metadata": {},
     "output_type": "execute_result"
    }
   ],
   "source": [
    "y[2]/y[1]"
   ]
  },
  {
   "cell_type": "code",
   "execution_count": 9,
   "id": "eb4c1420",
   "metadata": {},
   "outputs": [
    {
     "data": {
      "text/plain": [
       "2.1861406616345076"
      ]
     },
     "execution_count": 9,
     "metadata": {},
     "output_type": "execute_result"
    }
   ],
   "source": [
    "x₂ = X[:,2] # second eigenvector\n",
    "x₂[2]/x₂[1]"
   ]
  },
  {
   "cell_type": "code",
   "execution_count": 10,
   "id": "f7cac0ec",
   "metadata": {},
   "outputs": [
    {
     "data": {
      "text/plain": [
       "3-element Vector{Float64}:\n",
       "  0.0\n",
       " -0.0\n",
       " -6.366701349055913e-17"
      ]
     },
     "execution_count": 10,
     "metadata": {},
     "output_type": "execute_result"
    }
   ],
   "source": [
    "cross([y; 0], [x₂; 0]) / norm(y)"
   ]
  },
  {
   "cell_type": "markdown",
   "id": "3bc89010",
   "metadata": {},
   "source": [
    "Yup, they are parallel!\n",
    "\n",
    "It should also be that $\\Vert A^n x \\Vert$ grows nearly exponentially, proportional to $\\lambda_2^n$.  Let's plot it:"
   ]
  },
  {
   "cell_type": "code",
   "execution_count": 11,
   "id": "6f321d2f",
   "metadata": {},
   "outputs": [
    {
     "data": {
      "image/png": "[encoded data removed]",
      "text/plain": [
       "Figure(PyObject <Figure size 640x480 with 1 Axes>)"
      ]
     },
     "metadata": {},
     "output_type": "display_data"
    },
    {
     "data": {
      "text/plain": [
       "PyObject Text(0.5, 24.0, '$n$')"
      ]
     },
     "execution_count": 11,
     "metadata": {},
     "output_type": "execute_result"
    }
   ],
   "source": [
    "using PyPlot\n",
    "semilogy(0:10, [norm(A^n * x) for n=0:10], \"bo-\")\n",
    "semilogy(0:10, λ[2] .^ (0:10), \"r-\")\n",
    "legend([L\"\\Vert A^n x \\Vert\", L\"\\lambda_2^n\"])\n",
    "xlabel(L\"n\")"
   ]
  },
  {
   "cell_type": "markdown",
   "id": "8605fdc7",
   "metadata": {},
   "source": [
    "### Example: Cyclic permutations:\n",
    "\n",
    "Another example is the $4 \\times 4$ cyclic permutation matrix $P$"
   ]
  },
  {
   "cell_type": "code",
   "execution_count": 12,
   "id": "2b07afee",
   "metadata": {},
   "outputs": [
    {
     "data": {
      "text/plain": [
       "4×4 Matrix{Int64}:\n",
       " 0  1  0  0\n",
       " 0  0  1  0\n",
       " 0  0  0  1\n",
       " 1  0  0  0"
      ]
     },
     "execution_count": 12,
     "metadata": {},
     "output_type": "execute_result"
    }
   ],
   "source": [
    "P = [ 0 1 0 0\n",
    "      0 0 1 0\n",
    "      0 0 0 1\n",
    "      1 0 0 0 ]"
   ]
  },
  {
   "cell_type": "code",
   "execution_count": 13,
   "id": "91f2be85",
   "metadata": {},
   "outputs": [
    {
     "data": {
      "text/plain": [
       "4-element Vector{Int64}:\n",
       " 2\n",
       " 3\n",
       " 4\n",
       " 1"
      ]
     },
     "execution_count": 13,
     "metadata": {},
     "output_type": "execute_result"
    }
   ],
   "source": [
    "P * [1,2,3,4]"
   ]
  },
  {
   "cell_type": "code",
   "execution_count": 14,
   "id": "950df8e5",
   "metadata": {},
   "outputs": [
    {
     "data": {
      "text/plain": [
       "4-element Vector{Int64}:\n",
       " 1\n",
       " 2\n",
       " 3\n",
       " 4"
      ]
     },
     "execution_count": 14,
     "metadata": {},
     "output_type": "execute_result"
    }
   ],
   "source": [
    "P^4 * [1,2,3,4]"
   ]
  },
  {
   "cell_type": "code",
   "execution_count": 15,
   "id": "3150598c",
   "metadata": {},
   "outputs": [
    {
     "data": {
      "text/plain": [
       "4×4 Matrix{Int64}:\n",
       " 1  0  0  0\n",
       " 0  1  0  0\n",
       " 0  0  1  0\n",
       " 0  0  0  1"
      ]
     },
     "execution_count": 15,
     "metadata": {},
     "output_type": "execute_result"
    }
   ],
   "source": [
    "P^4"
   ]
  },
  {
   "cell_type": "code",
   "execution_count": 16,
   "id": "a6d10f08",
   "metadata": {},
   "outputs": [
    {
     "data": {
      "text/plain": [
       "4-element Vector{ComplexF64}:\n",
       "    -0.9999999999999997 + 0.0im\n",
       " 1.2902104469069482e-16 - 1.0000000000000002im\n",
       " 1.2902104469069482e-16 + 1.0000000000000002im\n",
       "                    1.0 + 0.0im"
      ]
     },
     "execution_count": 16,
     "metadata": {},
     "output_type": "execute_result"
    }
   ],
   "source": [
    "eigvals(P) # just computes eigenvalues"
   ]
  },
  {
   "cell_type": "markdown",
   "id": "9ad66bd0",
   "metadata": {},
   "source": [
    "Up to roundoff errors, the eigenvalues are $-1, -i, +i, +1$.\n",
    "\n",
    "This is a consequence of the fact that $P^4 = I$, which means that $\\lambda^4 = 1$:"
   ]
  },
  {
   "cell_type": "code",
   "execution_count": 17,
   "id": "fd3d134d",
   "metadata": {},
   "outputs": [
    {
     "data": {
      "text/plain": [
       "4×4 Matrix{Int64}:\n",
       " 1  0  0  0\n",
       " 0  1  0  0\n",
       " 0  0  1  0\n",
       " 0  0  0  1"
      ]
     },
     "execution_count": 17,
     "metadata": {},
     "output_type": "execute_result"
    }
   ],
   "source": [
    "P^4"
   ]
  },
  {
   "cell_type": "code",
   "execution_count": 18,
   "id": "266caef6",
   "metadata": {},
   "outputs": [
    {
     "data": {
      "text/plain": [
       "4-element Vector{ComplexF64}:\n",
       " 0.9999999999999987 - 0.0im\n",
       " 1.0000000000000009 + 5.160841787627796e-16im\n",
       " 1.0000000000000009 - 5.160841787627796e-16im\n",
       "                1.0 + 0.0im"
      ]
     },
     "execution_count": 18,
     "metadata": {},
     "output_type": "execute_result"
    }
   ],
   "source": [
    "eigvals(P) .^ 4 # each element to 4th power"
   ]
  },
  {
   "cell_type": "markdown",
   "id": "8bbc42ce",
   "metadata": {},
   "source": [
    "### Complex eigenvalues of real matrices\n",
    "\n",
    "Notice that, even though $P$ is a *real* matrix, its **eigenvalues (and eigenvectors)** can be **complex**.\n",
    "\n",
    "This isn't too surprising if you think about the connection to roots of polynomials — even for the quadratic equation, you know that *real polynomials can have complex roots*.\n",
    "\n",
    "If you make a random real matrix, it almost always has some complex roots if the matrix is big enough.  For example:"
   ]
  },
  {
   "cell_type": "code",
   "execution_count": 19,
   "id": "22d5edcc",
   "metadata": {},
   "outputs": [
    {
     "data": {
      "text/plain": [
       "20×20 Matrix{Float64}:\n",
       "  0.829171   0.138794   0.678026   …  -0.91498     0.948123   -0.803583\n",
       "  2.19259    0.748492   0.414546       0.171528    0.68522     0.223575\n",
       "  0.816218   0.153332  -0.914678      -1.20477    -0.153085    0.521608\n",
       " -1.47155   -1.49438   -0.274829       0.218383    0.0826769  -0.469391\n",
       "  0.743134  -0.177163   0.313937      -1.24328     0.613885    0.271068\n",
       " -0.186778  -0.171095  -1.03668    …   2.46496     2.15091     0.0320823\n",
       "  0.301177  -0.115305  -0.339294      -0.488035    0.46601    -0.365528\n",
       "  1.73961    0.323871  -1.09787       -0.503415   -1.14928     1.29621\n",
       " -0.792071   0.683768  -0.908675      -1.20089    -0.672091    0.44782\n",
       " -0.351495  -0.536343   0.2996        -2.24491     1.40864    -1.52049\n",
       " -0.370341   1.21907   -0.896898   …  -0.180509   -0.429355   -0.141925\n",
       "  0.989002   0.140579   0.300553      -0.914419    0.0226391   0.141268\n",
       " -0.793007  -0.101244   0.21641       -1.11298     0.467109    0.575488\n",
       "  0.281743  -0.593686  -0.147228      -0.0557582  -0.537067   -0.317039\n",
       " -0.613932   0.285307  -1.4214         0.281757   -2.05607    -0.0201645\n",
       "  0.56785    0.164016   0.0313567  …  -1.22978     1.06791    -0.235113\n",
       "  0.309827  -0.558453  -1.46202       -0.826678   -1.0413     -0.769869\n",
       "  0.69229    1.00292   -0.879679      -0.797199    1.12466    -0.839403\n",
       " -1.20952    0.898374  -1.81996        0.503379    0.918547    0.297399\n",
       "  0.255088   0.617499   0.280616       0.55378     0.434486    0.493207"
      ]
     },
     "execution_count": 19,
     "metadata": {},
     "output_type": "execute_result"
    }
   ],
   "source": [
    "R = randn(20,20) # a random 20x20 matrix:"
   ]
  },
  {
   "cell_type": "code",
   "execution_count": 20,
   "id": "69dc90f2",
   "metadata": {},
   "outputs": [
    {
     "data": {
      "text/plain": [
       "20-element Vector{ComplexF64}:\n",
       "    -4.029758270745915 + 0.0im\n",
       "   -2.6633757669626856 - 1.3053111840992218im\n",
       "   -2.6633757669626856 + 1.3053111840992218im\n",
       "   -2.1982876157312465 + 0.0im\n",
       "   -2.1438324706632796 - 2.3199797501785926im\n",
       "   -2.1438324706632796 + 2.3199797501785926im\n",
       " -0.052050103895014396 - 1.7072423620543062im\n",
       " -0.052050103895014396 + 1.7072423620543062im\n",
       "   0.17696831746269315 - 3.9684099248490288im\n",
       "   0.17696831746269315 + 3.9684099248490288im\n",
       "    0.9903843645924151 - 0.4121854874725685im\n",
       "    0.9903843645924151 + 0.4121854874725685im\n",
       "     1.469730788006183 - 2.31275995485107im\n",
       "     1.469730788006183 + 2.31275995485107im\n",
       "    1.7756728065541905 + 0.0im\n",
       "     2.195870725270419 - 3.853100900798987im\n",
       "     2.195870725270419 + 3.853100900798987im\n",
       "     2.997204454240207 - 2.006535728143899im\n",
       "     2.997204454240207 + 2.006535728143899im\n",
       "      3.76663409591321 + 0.0im"
      ]
     },
     "execution_count": 20,
     "metadata": {},
     "output_type": "execute_result"
    }
   ],
   "source": [
    "λ = eigvals(R) # its complex eigenvalues"
   ]
  },
  {
   "cell_type": "markdown",
   "id": "c7365336",
   "metadata": {},
   "source": [
    "One thing to notice is that the complex numbers come in complex-conjugate pairs.  This is *always* the case for real $A$, since\n",
    "$$\n",
    "\\overline{Ax = \\lambda x} = \\bar{A} \\bar{x} = \\bar{\\lambda}\\bar{x} = A\\bar{x}\n",
    "$$\n",
    "i.e. $\\bar{x}$ is also an eigenvector with eigenvalue $\\bar{\\lambda}$."
   ]
  },
  {
   "cell_type": "markdown",
   "id": "0a6f7499",
   "metadata": {},
   "source": [
    "Let's plot the eigenvalues in the complex plane:"
   ]
  },
  {
   "cell_type": "code",
   "execution_count": 21,
   "id": "5c6d984a",
   "metadata": {},
   "outputs": [
    {
     "data": {
      "image/png": "[encoded data removed]",
      "text/plain": [
       "Figure(PyObject <Figure size 640x480 with 1 Axes>)"
      ]
     },
     "metadata": {},
     "output_type": "display_data"
    }
   ],
   "source": [
    "using PyPlot\n",
    "plot(real(λ), imag(λ), \"bo\")\n",
    "xlabel(lpad(\"real part of λ\",60))\n",
    "ylabel(lpad(\"imaginary part of λ\", 60))\n",
    "title(\"eigenvalues of a random 20×20 matrix\")\n",
    "\n",
    "\n",
    "function center_spines(ax)\n",
    "    ax.spines[\"left\"].set_position(\"center\")\n",
    "    ax.spines[\"right\"].set_color(\"none\")\n",
    "    ax.spines[\"bottom\"].set_position(\"center\")\n",
    "    ax.spines[\"top\"].set_color(\"none\")\n",
    "    #ax.spines[\"left\"].set_smart_bounds(true)\n",
    "    #ax.spines[\"bottom\"].set_smart_bounds(true)\n",
    "    ax.xaxis.set_ticks_position(\"bottom\")\n",
    "    ax.yaxis.set_ticks_position(\"left\")\n",
    "end\n",
    "center_spines(gca())"
   ]
  },
  {
   "cell_type": "markdown",
   "id": "3815694b",
   "metadata": {},
   "source": [
    "### Hermitian/real-symmetric matrics and the discrete Laplacian\n",
    "\n",
    "As another example, let's construct the famous \"discrete Laplacian\" matrix $L$.  (You may have seen $-L$ instead, which can be viewed as a finite-difference approximation for $d^2/dx^2$ on a uniform grid.  Here, it turns out to be slightly nicer to flip the sign, which flips the sign of all the eigenvalues.)\n",
    "\n",
    "$$\n",
    "L = \\begin{pmatrix} 2 & -1 & & & & \\\\\n",
    "-1 & 2 & -1 & & & \\\\\n",
    "& \\ddots & \\ddots & \\ddots & & \\\\\n",
    "& & -1 & 2 & -1 & \\\\\n",
    "& & & -1 & 2 & -1 \\\\\n",
    "& & & & -1 & 2 \\end{pmatrix}\n",
    "$$\n",
    "which can be constructed in Julia in a variety of ways, e.g.:"
   ]
  },
  {
   "cell_type": "code",
   "execution_count": 22,
   "id": "778ceffd",
   "metadata": {},
   "outputs": [
    {
     "data": {
      "text/plain": [
       "6×6 Matrix{Int64}:\n",
       "  2  -1   0   0   0   0\n",
       " -1   2  -1   0   0   0\n",
       "  0  -1   2  -1   0   0\n",
       "  0   0  -1   2  -1   0\n",
       "  0   0   0  -1   2  -1\n",
       "  0   0   0   0  -1   2"
      ]
     },
     "execution_count": 22,
     "metadata": {},
     "output_type": "execute_result"
    }
   ],
   "source": [
    "m = 6\n",
    "L = diagm(-1 => fill(-1,m-1), 0 => fill(2,m), +1 => fill(-1,m-1))"
   ]
  },
  {
   "cell_type": "markdown",
   "id": "6329285f",
   "metadata": {},
   "source": [
    "This is a **real-symmetric tridiagonal matrix** $L = L^T$.  Julia actually has a special type for this sort of matrix, that allows it do computations extra efficiently (it doesn't even store the zero off-diagonal elements):"
   ]
  },
  {
   "cell_type": "code",
   "execution_count": 23,
   "id": "28a228c2",
   "metadata": {},
   "outputs": [
    {
     "data": {
      "text/plain": [
       "6×6 SymTridiagonal{Int64, Vector{Int64}}:\n",
       "  2  -1   ⋅   ⋅   ⋅   ⋅\n",
       " -1   2  -1   ⋅   ⋅   ⋅\n",
       "  ⋅  -1   2  -1   ⋅   ⋅\n",
       "  ⋅   ⋅  -1   2  -1   ⋅\n",
       "  ⋅   ⋅   ⋅  -1   2  -1\n",
       "  ⋅   ⋅   ⋅   ⋅  -1   2"
      ]
     },
     "execution_count": 23,
     "metadata": {},
     "output_type": "execute_result"
    }
   ],
   "source": [
    "L = SymTridiagonal(fill(2,m), fill(-1,m-1))"
   ]
  },
  {
   "cell_type": "markdown",
   "id": "f436ff44",
   "metadata": {},
   "source": [
    "The eigenvalues of *any* real-symmetric matrix are very special: they are **always real**: "
   ]
  },
  {
   "cell_type": "code",
   "execution_count": 24,
   "id": "2cca5c08",
   "metadata": {},
   "outputs": [
    {
     "data": {
      "text/plain": [
       "6-element Vector{Float64}:\n",
       " 0.1980622641951617\n",
       " 0.7530203962825329\n",
       " 1.5549581320873713\n",
       " 2.4450418679126287\n",
       " 3.2469796037174667\n",
       " 3.8019377358048385"
      ]
     },
     "execution_count": 24,
     "metadata": {},
     "output_type": "execute_result"
    }
   ],
   "source": [
    "eigvals(L)"
   ]
  },
  {
   "cell_type": "markdown",
   "id": "9147adfa",
   "metadata": {},
   "source": [
    "Moreover, the eigenvectors are **orthogonal** (and can be normalized to **orthonormal**):"
   ]
  },
  {
   "cell_type": "code",
   "execution_count": 25,
   "id": "0816eb9d",
   "metadata": {},
   "outputs": [
    {
     "data": {
      "text/plain": [
       "6×6 Matrix{Float64}:\n",
       " 0.231921  -0.417907   0.521121  -0.521121  -0.417907   0.231921\n",
       " 0.417907  -0.521121   0.231921   0.231921   0.521121  -0.417907\n",
       " 0.521121  -0.231921  -0.417907   0.417907  -0.231921   0.521121\n",
       " 0.521121   0.231921  -0.417907  -0.417907  -0.231921  -0.521121\n",
       " 0.417907   0.521121   0.231921  -0.231921   0.521121   0.417907\n",
       " 0.231921   0.417907   0.521121   0.521121  -0.417907  -0.231921"
      ]
     },
     "execution_count": 25,
     "metadata": {},
     "output_type": "execute_result"
    }
   ],
   "source": [
    "Q = eigvecs(L)"
   ]
  },
  {
   "cell_type": "markdown",
   "id": "ee9f8087",
   "metadata": {},
   "source": [
    "Let's check that they are orthogonal: $Q^T Q \\approx I$:"
   ]
  },
  {
   "cell_type": "code",
   "execution_count": 26,
   "id": "ae413c92",
   "metadata": {},
   "outputs": [
    {
     "data": {
      "text/plain": [
       "6×6 Matrix{Float64}:\n",
       "  1.0           3.2e-16      -3.23485e-16  …  -6.06815e-17  -1.26907e-16\n",
       "  3.2e-16       1.0           1.63628e-16      1.09586e-16   8.61728e-17\n",
       " -3.23485e-16   1.63628e-16   1.0             -4.28431e-17  -4.34141e-17\n",
       " -1.92391e-16  -2.27856e-17  -1.05864e-16     -1.0623e-16   -7.7364e-17\n",
       " -6.06815e-17   1.09586e-16  -4.28431e-17      1.0          -2.34469e-16\n",
       " -1.26907e-16   8.61728e-17  -4.34141e-17  …  -2.34469e-16   1.0"
      ]
     },
     "execution_count": 26,
     "metadata": {},
     "output_type": "execute_result"
    }
   ],
   "source": [
    "Q' * Q"
   ]
  },
  {
   "cell_type": "markdown",
   "id": "69e47f3d",
   "metadata": {},
   "source": [
    "It's a little hard to see because of the roundoff errors.  Let's round to 3 decimal places:"
   ]
  },
  {
   "cell_type": "code",
   "execution_count": 27,
   "id": "8673e9fd",
   "metadata": {},
   "outputs": [
    {
     "data": {
      "text/plain": [
       "6×6 Matrix{Float64}:\n",
       "  1.0   0.0  -0.0  -0.0  -0.0  -0.0\n",
       "  0.0   1.0   0.0  -0.0   0.0   0.0\n",
       " -0.0   0.0   1.0  -0.0  -0.0  -0.0\n",
       " -0.0  -0.0  -0.0   1.0  -0.0  -0.0\n",
       " -0.0   0.0  -0.0  -0.0   1.0  -0.0\n",
       " -0.0   0.0  -0.0  -0.0  -0.0   1.0"
      ]
     },
     "execution_count": 27,
     "metadata": {},
     "output_type": "execute_result"
    }
   ],
   "source": [
    "round.(Q' * Q, digits=3)"
   ]
  },
  {
   "cell_type": "markdown",
   "id": "d0350e16",
   "metadata": {},
   "source": [
    "Let's try it for a random real-symmetric matrix:\n",
    "\n",
    "$$\n",
    "B = R + R^T\n",
    "$$"
   ]
  },
  {
   "cell_type": "code",
   "execution_count": 28,
   "id": "20d048d5",
   "metadata": {},
   "outputs": [
    {
     "data": {
      "text/plain": [
       "20×20 Matrix{Float64}:\n",
       "  1.65834     2.33138     1.49424    …  -0.22269    -0.261395  -0.548495\n",
       "  2.33138     1.49698     0.567878       1.17445     1.58359    0.841074\n",
       "  1.49424     0.567878   -1.82936       -2.08445    -1.97305    0.802223\n",
       " -0.873223   -2.5189     -0.234729      -0.466553    1.98014   -0.757998\n",
       "  1.19066    -1.5483      1.26955       -3.18594     1.4984    -0.443326\n",
       " -1.28653    -0.70039     0.740466   …   1.43708     3.38325   -0.679315\n",
       "  1.70158    -0.598096   -0.780981       1.26355     0.222589  -0.101874\n",
       "  1.0822      1.0677     -0.795777      -1.73173    -1.37277    0.291422\n",
       "  0.100375    1.97324    -0.942124      -1.77077    -1.75298    0.469773\n",
       " -2.21561    -0.0290779   0.133419      -1.01377     1.71847   -1.6003\n",
       "  0.950668    3.11415    -0.0590488  …  -0.0276943  -0.692113   0.181601\n",
       " -0.0765708   1.70557     0.651119       0.942239   -0.81868    0.0588557\n",
       "  1.5453     -0.70579     0.0573533     -1.9466      1.0038     1.38634\n",
       "  0.963923    0.535501    0.715344       1.47753    -1.9614    -0.0941366\n",
       "  0.23409     1.8659     -2.18804        0.570987   -1.32442    1.34531\n",
       " -1.83025    -0.434536   -1.73489    …  -2.13741     0.532592  -1.74014\n",
       "  2.5416     -0.0067432  -0.657476      -1.14267    -1.57061    0.745832\n",
       " -0.22269     1.17445    -2.08445       -1.5944      1.62804   -0.285623\n",
       " -0.261395    1.58359    -1.97305        1.62804     1.83709    0.731884\n",
       " -0.548495    0.841074    0.802223      -0.285623    0.731884   0.986415"
      ]
     },
     "execution_count": 28,
     "metadata": {},
     "output_type": "execute_result"
    }
   ],
   "source": [
    "B = R + R'"
   ]
  },
  {
   "cell_type": "code",
   "execution_count": 29,
   "id": "aae3554e",
   "metadata": {},
   "outputs": [
    {
     "data": {
      "text/plain": [
       "20-element Vector{Float64}:\n",
       " -9.885815419012882\n",
       " -9.084302010408306\n",
       " -6.843285604985337\n",
       " -5.942971471336738\n",
       " -4.7145012740161105\n",
       " -3.6586794713705375\n",
       " -2.5987759869356073\n",
       " -2.125904297844215\n",
       " -0.8883340910207597\n",
       "  0.5950921105698613\n",
       "  1.4203119332808172\n",
       "  1.8872687001818484\n",
       "  2.3827569043089762\n",
       "  3.2628973805220824\n",
       "  4.577517156826758\n",
       "  6.138927327909758\n",
       "  7.186237946968724\n",
       "  7.649004117817263\n",
       "  8.873524934813709\n",
       " 12.281154377914909"
      ]
     },
     "execution_count": 29,
     "metadata": {},
     "output_type": "execute_result"
    }
   ],
   "source": [
    "eigvals(B)"
   ]
  },
  {
   "cell_type": "markdown",
   "id": "031d6f94",
   "metadata": {},
   "source": [
    "They are all real numbers, but they are not all positive!\n",
    "\n",
    "$L$ must be special in *another* way!"
   ]
  },
  {
   "cell_type": "markdown",
   "id": "65d950e0",
   "metadata": {},
   "source": [
    "### Positive-definite matrices and the discrete Laplacian\n",
    "\n",
    "In fact, not only were the eigenvalues real, but they were actually **all positive**.\n",
    "\n",
    "A real-symmetric (or Hermitian) matrix with *positive* real eigenvalues is called **positive definite**.\n",
    "\n",
    "(The matrix $-L$ has all-negative eigenvalues, which is called **negative definite**.)"
   ]
  },
  {
   "cell_type": "code",
   "execution_count": 30,
   "id": "b227a1eb",
   "metadata": {},
   "outputs": [
    {
     "data": {
      "text/plain": [
       "true"
      ]
     },
     "execution_count": 30,
     "metadata": {},
     "output_type": "execute_result"
    }
   ],
   "source": [
    "isposdef(L) # check positive-definiteness"
   ]
  },
  {
   "cell_type": "markdown",
   "id": "383da99f",
   "metadata": {},
   "source": [
    "Positive-definiteness of $L$ is no accident, because it can be factored as a product of two \"difference matrices\" in a *very special* form:\n",
    "\n",
    "$$\n",
    "L = \\underbrace{\\begin{pmatrix} 2 & -1 & & & \\\\\n",
    "-1 & 2 & -1 & & \\\\\n",
    "& \\ddots & \\ddots & \\ddots & \\\\\n",
    "& & -1 & 2 & -1 \\\\\n",
    "& & & -1 & 2  \\end{pmatrix}}_{m \\times m}\n",
    "= D^T D = \\\\\n",
    "-\n",
    "\\underbrace{\\begin{pmatrix} -1 & 1 & & & \\\\\n",
    " & -1 & 1 & & \\\\\n",
    "&  & \\ddots & \\ddots & & \\\\\n",
    "& & & -1 & 1 &  \\\\\n",
    "& & &  & -1 & 1 \\end{pmatrix}}_{m \\times (m+1) \\mbox{ matrix } -D^T}\n",
    "\\underbrace{\\begin{pmatrix} 1 & & & & & \\\\\n",
    "-1 & 1 & & & & \\\\\n",
    "& \\ddots & \\ddots & & & \\\\\n",
    "& & -1 & 1 &  & \\\\\n",
    "& &  & -1 & 1 \\\\\n",
    "& & &  & -1 \\end{pmatrix}}_{(m+1) \\times m \\mbox{ matrix } D}\n",
    "$$"
   ]
  },
  {
   "cell_type": "markdown",
   "id": "89bf7016",
   "metadata": {},
   "source": [
    "Let's check:"
   ]
  },
  {
   "cell_type": "code",
   "execution_count": 31,
   "id": "9d4b0a42",
   "metadata": {},
   "outputs": [
    {
     "data": {
      "text/plain": [
       "7×6 Matrix{Int64}:\n",
       "  1   0   0   0   0   0\n",
       " -1   1   0   0   0   0\n",
       "  0  -1   1   0   0   0\n",
       "  0   0  -1   1   0   0\n",
       "  0   0   0  -1   1   0\n",
       "  0   0   0   0  -1   1\n",
       "  0   0   0   0   0  -1"
      ]
     },
     "execution_count": 31,
     "metadata": {},
     "output_type": "execute_result"
    }
   ],
   "source": [
    "D = diagm(m+1, m, -1 => fill(-1, m), 0 => fill(1, m))"
   ]
  },
  {
   "cell_type": "code",
   "execution_count": 32,
   "id": "acb7f38e",
   "metadata": {},
   "outputs": [
    {
     "data": {
      "text/plain": [
       "6×6 Matrix{Int64}:\n",
       "  2  -1   0   0   0   0\n",
       " -1   2  -1   0   0   0\n",
       "  0  -1   2  -1   0   0\n",
       "  0   0  -1   2  -1   0\n",
       "  0   0   0  -1   2  -1\n",
       "  0   0   0   0  -1   2"
      ]
     },
     "execution_count": 32,
     "metadata": {},
     "output_type": "execute_result"
    }
   ],
   "source": [
    "D'D"
   ]
  },
  {
   "cell_type": "code",
   "execution_count": 33,
   "id": "51eafbaa",
   "metadata": {},
   "outputs": [
    {
     "data": {
      "text/plain": [
       "true"
      ]
     },
     "execution_count": 33,
     "metadata": {},
     "output_type": "execute_result"
    }
   ],
   "source": [
    "D'D == L"
   ]
  },
  {
   "cell_type": "markdown",
   "id": "05ecfaf0",
   "metadata": {},
   "source": [
    "It is easy to see that *any* matrix $A = B^T B$ for *any* real $B$ must have eigenvalues $\n",
    "\\lambda \\ge 0$.\n",
    "\n",
    "It is clearly real-symmetric so its eigenvalues and eigenvalues are real.  If $Ax = \\lambda x$, then\n",
    "$$\n",
    "x^T A x = x^T B^T B x = (Bx)^T (Bx) = \\Vert Bx \\Vert^2 = \\lambda x^T x = \\lambda \\Vert x \\Vert^2\n",
    "$$\n",
    "Hence\n",
    "$$\n",
    "\\lambda = \\frac{x^T A x}{x^T x} = \\frac{\\Vert Bx \\Vert^2}{ \\Vert x \\Vert^2} \\ge 0\n",
    "$$\n",
    "which is obviously $\\ge 0$.  Any such matrix $A$ is **positive semidefinite**.\n",
    "\n",
    "For it to be **positive definite**, i.e. $\\lambda > 0$ (not just $\\ge 0$), we must have $Bx \\ne 0$ for any $x \\ne 0$: **B must be full column rank (independent columns)**.\n",
    "\n",
    "In the case above, it is obvious that $D$ has rank $m$ ($m$ independent columns).  For example, you can see this because $D^T$ is upper-triangular with $m$ nonzero pivots on the diagonal."
   ]
  },
  {
   "cell_type": "code",
   "execution_count": null,
   "id": "96b6d134",
   "metadata": {},
   "outputs": [],
   "source": []
  }
 ],
 "metadata": {
  "@webio": {
   "lastCommId": null,
   "lastKernelId": null
  },
  "kernelspec": {
   "display_name": "Julia 1.10.0",
   "language": "julia",
   "name": "julia-1.10"
  },
  "language_info": {
   "file_extension": ".jl",
   "mimetype": "application/julia",
   "name": "julia",
   "version": "1.10.0"
  }
 },
 "nbformat": 4,
 "nbformat_minor": 5
}
